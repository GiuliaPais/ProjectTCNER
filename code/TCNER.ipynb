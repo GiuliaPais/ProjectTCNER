{
 "cells": [
  {
   "cell_type": "markdown",
   "id": "a2f12e30-4ea8-4d4c-ae51-5c0f48b47354",
   "metadata": {},
   "source": [
    "### Loading the dataset"
   ]
  },
  {
   "cell_type": "code",
   "execution_count": 3,
   "id": "2963bd15-af90-413d-8716-ea0c7fe332e3",
   "metadata": {},
   "outputs": [
    {
     "name": "stdout",
     "output_type": "stream",
     "text": [
      "  Conference                                              Topic\n",
      "0      ISCAS  Scalable Serial-parallel Multiplier over GF(2m...\n",
      "1   SIGGRAPH                                Plenoptic sampling.\n",
      "2      ISCAS  Sensitivity and uniformity of a 0.18micrometer...\n",
      "3        WWW      A survey of web archive search architectures.\n",
      "4      ISCAS  Understanding dynamic behavior of mm-wave CML ...\n"
     ]
    }
   ],
   "source": [
    "import pandas as pd\n",
    "\n",
    "with open('DBLPTrainset.txt', 'r') as file:\n",
    "    lines = file.readlines()\n",
    "\n",
    "data = []\n",
    "for line in lines:\n",
    "    _, conference, topic = line.strip().split('\\t')\n",
    "    data.append({'Conference': conference, 'Topic': topic})\n",
    "\n",
    "data = pd.DataFrame(data)\n",
    "print(data.head())"
   ]
  },
  {
   "cell_type": "code",
   "execution_count": 4,
   "id": "f19317e1-8544-480f-a143-d246a0b78908",
   "metadata": {},
   "outputs": [],
   "source": [
    "X = data['Topic']\n",
    "y = data['Conference']"
   ]
  },
  {
   "cell_type": "code",
   "execution_count": 6,
   "id": "cd506867-8362-4f7d-8d1e-f4787aa98e0d",
   "metadata": {},
   "outputs": [],
   "source": [
    "from sklearn.model_selection import train_test_split\n",
    "X_train, X_test, y_train, y_test = train_test_split(X, y, test_size=0.2, random_state=42)"
   ]
  },
  {
   "cell_type": "markdown",
   "id": "8186d342-2a3a-4bad-837f-3e68d13d677e",
   "metadata": {},
   "source": [
    "### Pre-Processing"
   ]
  },
  {
   "cell_type": "code",
   "execution_count": 7,
   "id": "e5fae28a-f9fa-4df1-850e-a66c6f1dc13b",
   "metadata": {},
   "outputs": [],
   "source": [
    "# 1. Lowercasing\n",
    "\n",
    "X_train = X_train.str.lower()\n",
    "X_test = X_test.str.lower()"
   ]
  },
  {
   "cell_type": "code",
   "execution_count": 8,
   "id": "fbac800a-a415-4d38-9699-95ddb94fbe93",
   "metadata": {},
   "outputs": [
    {
     "name": "stderr",
     "output_type": "stream",
     "text": [
      "[nltk_data] Downloading package punkt to\n",
      "[nltk_data]     C:\\Users\\rames\\AppData\\Roaming\\nltk_data...\n",
      "[nltk_data]   Unzipping tokenizers\\punkt.zip.\n"
     ]
    }
   ],
   "source": [
    "# 2. Tokenization\n",
    "\n",
    "import nltk\n",
    "nltk.download('punkt')\n",
    "from nltk.tokenize import word_tokenize\n",
    "\n",
    "X_train = X_train.apply(word_tokenize)\n",
    "X_test = X_test.apply(word_tokenize)"
   ]
  },
  {
   "cell_type": "code",
   "execution_count": 10,
   "id": "14cd0c4b-7ca3-4575-8eaa-998484a39f5e",
   "metadata": {},
   "outputs": [],
   "source": [
    "# 3. Removing punctuation and special characters\n",
    "\n",
    "import string\n",
    "\n",
    "def remove_punctuation(tokens):\n",
    "    return [token for token in tokens if token not in string.punctuation]\n",
    "\n",
    "X_train = X_train.apply(remove_punctuation)\n",
    "X_test = X_test.apply(remove_punctuation)"
   ]
  },
  {
   "cell_type": "code",
   "execution_count": 12,
   "id": "63c45f0d-40c4-44a7-a48d-47af50684c98",
   "metadata": {},
   "outputs": [
    {
     "name": "stderr",
     "output_type": "stream",
     "text": [
      "[nltk_data] Downloading package stopwords to\n",
      "[nltk_data]     C:\\Users\\rames\\AppData\\Roaming\\nltk_data...\n",
      "[nltk_data]   Unzipping corpora\\stopwords.zip.\n"
     ]
    }
   ],
   "source": [
    "# 4. Removing stop words\n",
    "\n",
    "from nltk.corpus import stopwords\n",
    "nltk.download('stopwords')\n",
    "\n",
    "stop_words = set(stopwords.words('english'))\n",
    "\n",
    "def remove_stopwords(tokens):\n",
    "    return [word for word in tokens if word not in stop_words]\n",
    "\n",
    "X_train = X_train.apply(remove_stopwords)\n",
    "X_test = X_test.apply(remove_stopwords)"
   ]
  },
  {
   "cell_type": "code",
   "execution_count": 13,
   "id": "05d480ba-b525-4c6b-8100-a2bfe44d64ec",
   "metadata": {},
   "outputs": [
    {
     "name": "stderr",
     "output_type": "stream",
     "text": [
      "[nltk_data] Downloading package wordnet to\n",
      "[nltk_data]     C:\\Users\\rames\\AppData\\Roaming\\nltk_data...\n"
     ]
    }
   ],
   "source": [
    "# 5. Stemming and Lemmatization\n",
    "\n",
    "from nltk.stem import PorterStemmer, WordNetLemmatizer\n",
    "nltk.download('wordnet')\n",
    "\n",
    "porter_stemmer = PorterStemmer()\n",
    "wordnet_lemmatizer = WordNetLemmatizer()\n",
    "\n",
    "def stem_words(tokens):\n",
    "    return [porter_stemmer.stem(word) for word in tokens]\n",
    "\n",
    "def lemmatize_words(tokens):\n",
    "    return [wordnet_lemmatizer.lemmatize(word) for word in tokens]\n",
    "\n",
    "X_train = X_train.apply(stem_words)\n",
    "X_test = X_test.apply(stem_words)\n",
    "\n",
    "X_train = X_train.apply(lemmatize_words)\n",
    "X_test = X_test.apply(lemmatize_words)"
   ]
  },
  {
   "cell_type": "code",
   "execution_count": 14,
   "id": "157d6cf8-9f33-4744-ae9a-441e283c0d15",
   "metadata": {},
   "outputs": [
    {
     "data": {
      "text/plain": [
       "4307     [use, graphic, processor, high, perform, ir, q...\n",
       "17179    [two-tier, load, balanc, ospf, wireless, back-...\n",
       "15486    [cach, mechan, improv, internet, base, mobil, ...\n",
       "4605             [rail-to-rail, tunabl, cmo, v-i, convert]\n",
       "9501                [practic, skew, handl, parallel, join]\n",
       "Name: Topic, dtype: object"
      ]
     },
     "execution_count": 14,
     "metadata": {},
     "output_type": "execute_result"
    }
   ],
   "source": [
    "X_train[:5]"
   ]
  },
  {
   "cell_type": "code",
   "execution_count": null,
   "id": "8de76ad9-fcfb-4eac-9014-a00a5b36d6ad",
   "metadata": {},
   "outputs": [],
   "source": []
  }
 ],
 "metadata": {
  "kernelspec": {
   "display_name": "Python 3 (ipykernel)",
   "language": "python",
   "name": "python3"
  },
  "language_info": {
   "codemirror_mode": {
    "name": "ipython",
    "version": 3
   },
   "file_extension": ".py",
   "mimetype": "text/x-python",
   "name": "python",
   "nbconvert_exporter": "python",
   "pygments_lexer": "ipython3",
   "version": "3.8.19"
  }
 },
 "nbformat": 4,
 "nbformat_minor": 5
}
